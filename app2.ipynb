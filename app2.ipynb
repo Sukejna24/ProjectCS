{
 "cells": [
  {
   "cell_type": "code",
   "execution_count": null,
   "metadata": {},
   "outputs": [],
   "source": [
    "import streamlit as st\n",
    "\n",
    "def main():\n",
    "    st.title(\"Melody Match\")\n",
    "    st.write(\"Willkommen bei Melody Match! Wähle deine Musikpräferenzen.\")\n",
    "\n",
    "    # Musikpräferenzen\n",
    "    st.header(\"Wähle deine Musikpräferenzen\")\n",
    "\n",
    "    # Auswahlmöglichkeiten für Genres\n",
    "    genres = ['Pop', 'Rock', 'Hip-Hop', 'Jazz', 'Classical']\n",
    "    selected_genres = st.multiselect(\"Wähle deine Lieblingsgenres:\", genres)\n",
    "\n",
    "    # Auswahlmöglichkeiten für Künstler\n",
    "    artists = ['Taylor Swift', 'The Weeknd', 'Ed Sheeran', 'Beyoncé', 'Adele']\n",
    "    selected_artists = st.multiselect(\"Wähle deine Lieblingskünstler:\", artists)\n",
    "\n",
    "    # Button für den Mix mit Machine Learning\n",
    "    if st.button(\"Mix Up\"):\n",
    "        # Hier kommt die Logik für das Zusammenmischen der Songs\n",
    "        st.write(\"Mixing up your preferences...\")  # Placeholder für Machine Learning Logik\n",
    "\n",
    "        # Beispielausgabe, die du später anpassen kannst\n",
    "        st.write(\"Empfohlene Songs für dich könnten sein: ...\")\n",
    "\n",
    "if __name__ == \"__main__\":\n",
    "    main()\n"
   ]
  },
  {
   "cell_type": "code",
   "execution_count": null,
   "metadata": {},
   "outputs": [],
   "source": [
    "print(\"Hello Jessy\")"
   ]
  },
  {
   "cell_type": "code",
   "execution_count": null,
   "metadata": {},
   "outputs": [
    {
     "name": "stdout",
     "output_type": "stream",
     "text": [
      "Hello\n",
      "Hello again\n",
      "another one\n"
     ]
    }
   ],
   "source": [
    "print(\"Hello\")\n",
    "print(\"Hello again\")\n",
    "print(\"another one\")\n",
    "print(\"No\")"
   ]
  },
  {
   "cell_type": "code",
   "execution_count": null,
   "metadata": {},
   "outputs": [],
   "source": []
  }
 ],
 "metadata": {
  "kernelspec": {
   "display_name": "base",
   "language": "python",
   "name": "python3"
  },
  "language_info": {
   "codemirror_mode": {
    "name": "ipython",
    "version": 3
   },
   "file_extension": ".py",
   "mimetype": "text/x-python",
   "name": "python",
   "nbconvert_exporter": "python",
   "pygments_lexer": "ipython3",
   "version": "3.11.4"
  }
 },
 "nbformat": 4,
 "nbformat_minor": 2
}
