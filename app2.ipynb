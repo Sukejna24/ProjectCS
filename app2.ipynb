{
 "cells": [
  {
   "cell_type": "code",
   "execution_count": null,
   "metadata": {},
   "outputs": [],
   "source": [
    "import streamlit as st\n",
    "\n",
    "def main():\n",
    "    st.title(\"Melody Match\")\n",
    "    st.write(\"Willkommen bei Melody Match! Wähle deine Musikpräferenzen.\")\n",
    "\n",
    "    # Musikpräferenzen\n",
    "    st.header(\"Wähle deine Musikpräferenzen\")\n",
    "\n",
    "    # Auswahlmöglichkeiten für Genres\n",
    "    genres = ['Pop', 'Rock', 'Hip-Hop', 'Jazz', 'Classical']\n",
    "    selected_genres = st.multiselect(\"Wähle deine Lieblingsgenres:\", genres)\n",
    "\n",
    "    # Auswahlmöglichkeiten für Künstler\n",
    "    artists = ['Taylor Swift', 'The Weeknd', 'Ed Sheeran', 'Beyoncé', 'Adele']\n",
    "    selected_artists = st.multiselect(\"Wähle deine Lieblingskünstler:\", artists)\n",
    "\n",
    "    # Button für den Mix mit Machine Learning\n",
    "    if st.button(\"Mix Up\"):\n",
    "        # Hier kommt die Logik für das Zusammenmischen der Songs\n",
    "        st.write(\"Mixing up your preferences...\")  # Placeholder für Machine Learning Logik\n",
    "\n",
    "        # Beispielausgabe, die du später anpassen kannst\n",
    "        st.write(\"Empfohlene Songs für dich könnten sein: ...\")\n",
    "\n",
    "if __name__ == \"__main__\":\n",
    "    main()\n"
   ]
  }
 ],
 "metadata": {
  "language_info": {
   "name": "python"
  }
 },
 "nbformat": 4,
 "nbformat_minor": 2
}
